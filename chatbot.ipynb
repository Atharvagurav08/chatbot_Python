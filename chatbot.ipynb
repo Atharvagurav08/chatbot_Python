{
 "cells": [
  {
   "cell_type": "code",
   "execution_count": null,
   "id": "e4e47157",
   "metadata": {},
   "outputs": [
    {
     "name": "stderr",
     "output_type": "stream",
     "text": [
      "[nltk_data] Downloading package punkt to\n",
      "[nltk_data]     /Users/atharvagurav/nltk_data...\n",
      "[nltk_data]   Package punkt is already up-to-date!\n",
      "[nltk_data] Downloading package wordnet to\n",
      "[nltk_data]     /Users/atharvagurav/nltk_data...\n",
      "[nltk_data]   Package wordnet is already up-to-date!\n"
     ]
    },
    {
     "name": "stdout",
     "output_type": "stream",
     "text": [
      "AI Chatbot: Hello! Ask me anything about Artificial Intelligence. Type 'bye' to exit.\n",
      "User: hello\n",
      "AI Chatbot: hi\n"
     ]
    }
   ],
   "source": [
    "import nltk\n",
    "import random\n",
    "import string\n",
    "import ssl\n",
    "from nltk.corpus import stopwords\n",
    "from nltk.stem import WordNetLemmatizer\n",
    "from sklearn.feature_extraction.text import TfidfVectorizer\n",
    "from sklearn.metrics.pairwise import cosine_similarity\n",
    "\n",
    "# Bypass SSL certificate verification\n",
    "try:\n",
    "    _create_unverified_https_context = ssl._create_unverified_context\n",
    "except AttributeError:\n",
    "    pass\n",
    "else:\n",
    "    ssl._create_default_https_context = _create_unverified_https_context\n",
    "\n",
    "# Download NLTK resources\n",
    "nltk.download('punkt')\n",
    "nltk.download('wordnet')\n",
    "\n",
    "# Load AI knowledge base from the external file\n",
    "with open(\"AI_info.txt\", \"r\") as file:\n",
    "    ai_info = file.read()\n",
    "\n",
    "def Normalize(text):\n",
    "    remove_punct = str.maketrans('', '', string.punctuation)\n",
    "    text = text.lower().translate(remove_punct)\n",
    "\n",
    "    tokens = nltk.word_tokenize(text)\n",
    "    lemmatizer = WordNetLemmatizer()\n",
    "    tokens = [lemmatizer.lemmatize(token) for token in tokens]\n",
    "\n",
    "    return tokens\n",
    "\n",
    "def Response(user_query, text):\n",
    "    response = ''\n",
    "    TfidfVec = TfidfVectorizer(tokenizer=Normalize, stop_words=stopwords.words('english'))\n",
    "    tfidf = TfidfVec.fit_transform([user_query] + [text])\n",
    "    cosine_sim = cosine_similarity(tfidf[0:1], tfidf[1:])[0][0]\n",
    "    \n",
    "    if cosine_sim > 0:\n",
    "        response = text\n",
    "    else:\n",
    "        response = 'I am not sure about that, please try Googling it.'\n",
    "\n",
    "    return response\n",
    "\n",
    "GREETING_INPUTS = [\"hi\", \"hello\", \"hola\", \"greetings\", \"what's up\", \"hey\"]\n",
    "GREETING_RESPONSES = [\"hello\", \"hi\", \"hey\", \"how can I help you?\"]\n",
    "\n",
    "def Greet(sentence):\n",
    "    for word in sentence.split():\n",
    "        if word.lower() in GREETING_INPUTS:\n",
    "            return random.choice(GREETING_RESPONSES)\n",
    "    return None\n",
    "\n",
    "print(\"AI Chatbot: Hello! Ask me anything about Artificial Intelligence. Type 'bye' to exit.\")\n",
    "\n",
    "while True:\n",
    "    user_query = input(\"User: \")\n",
    "    user_query = user_query.lower()\n",
    "    \n",
    "    if user_query == 'bye':\n",
    "        print(\"AI Chatbot: Goodbye! Have a nice day.\")\n",
    "        break\n",
    "\n",
    "    greeting_response = Greet(user_query)\n",
    "    if greeting_response:\n",
    "        print(\"AI Chatbot:\", greeting_response)\n",
    "    else:\n",
    "        print(\"AI Chatbot:\", Response(user_query, ai_info))\n"
   ]
  },
  {
   "cell_type": "code",
   "execution_count": null,
   "id": "fb3dc265",
   "metadata": {},
   "outputs": [],
   "source": []
  }
 ],
 "metadata": {
  "kernelspec": {
   "display_name": "Python 3 (ipykernel)",
   "language": "python",
   "name": "python3"
  },
  "language_info": {
   "codemirror_mode": {
    "name": "ipython",
    "version": 3
   },
   "file_extension": ".py",
   "mimetype": "text/x-python",
   "name": "python",
   "nbconvert_exporter": "python",
   "pygments_lexer": "ipython3",
   "version": "3.10.3"
  }
 },
 "nbformat": 4,
 "nbformat_minor": 5
}
